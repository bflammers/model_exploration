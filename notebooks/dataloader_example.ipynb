{
 "cells": [
  {
   "cell_type": "markdown",
   "metadata": {},
   "source": [
    "Autoreload is nice: automagically loads changes to helper code in the .py files to notebook"
   ]
  },
  {
   "cell_type": "code",
   "execution_count": 1,
   "metadata": {},
   "outputs": [],
   "source": [
    "%load_ext autoreload\n",
    "%autoreload 2"
   ]
  },
  {
   "cell_type": "code",
   "execution_count": 2,
   "metadata": {},
   "outputs": [],
   "source": [
    "import sys\n",
    "import os"
   ]
  },
  {
   "cell_type": "markdown",
   "metadata": {},
   "source": [
    "Add parent directory to PYTHONPATH, this allows to import from src/ directory, which is location in the parent directory"
   ]
  },
  {
   "cell_type": "code",
   "execution_count": 3,
   "metadata": {},
   "outputs": [],
   "source": [
    "sys.path.insert(1, os.path.join(sys.path[0], '..'))"
   ]
  },
  {
   "cell_type": "code",
   "execution_count": 4,
   "metadata": {},
   "outputs": [],
   "source": [
    "import pandas as pd\n",
    "import numpy as np"
   ]
  },
  {
   "cell_type": "code",
   "execution_count": 5,
   "metadata": {},
   "outputs": [],
   "source": [
    "from src.dataloading import DataLoader"
   ]
  },
  {
   "cell_type": "code",
   "execution_count": 6,
   "metadata": {
    "scrolled": true
   },
   "outputs": [
    {
     "name": "stdout",
     "output_type": "stream",
     "text": [
      "--> reading json with dataset attributes\n",
      "--> ../data directory present\n",
      "--> ../data/shuttle directory present\n",
      "--> data is present\n",
      "--> data loaded, shape: (49097, 10)\n"
     ]
    }
   ],
   "source": [
    "dataloader = DataLoader(\"shuttle\")"
   ]
  },
  {
   "cell_type": "code",
   "execution_count": 7,
   "metadata": {},
   "outputs": [
    {
     "name": "stdout",
     "output_type": "stream",
     "text": [
      "Shape X: (49097, 9)\n",
      "Head X: \n",
      "    0   1   2  3   4   5   6   7   8\n",
      "0  50  21  77  0  28   0  27  48  22\n",
      "1  53   0  82  0  52  -5  29  30   2\n",
      "2  37   0  76  0  28  18  40  48   8\n",
      "3  37   0  79  0  34 -26  43  46   2\n",
      "4  85   0  88 -4   6   1   3  83  80\n",
      "\n",
      "Shape y: (49097,)\n",
      "Head y: \n",
      "0    1\n",
      "1    0\n",
      "2    0\n",
      "3    0\n",
      "4    1\n",
      "Name: y, dtype: uint8\n"
     ]
    }
   ],
   "source": [
    "X = dataloader.get_X()\n",
    "y = dataloader.get_y()\n",
    "\n",
    "print(\"Shape X: {}\".format(X.shape))\n",
    "print(\"Head X: \\n{}\".format(X.head(5)))\n",
    "\n",
    "print(\"\\nShape y: {}\".format(y.shape))\n",
    "print(\"Head y: \\n{}\".format(y.head(5)))"
   ]
  },
  {
   "cell_type": "code",
   "execution_count": null,
   "metadata": {},
   "outputs": [],
   "source": []
  }
 ],
 "metadata": {
  "kernelspec": {
   "display_name": "Python [conda env:model_exploration] *",
   "language": "python",
   "name": "conda-env-model_exploration-py"
  },
  "language_info": {
   "codemirror_mode": {
    "name": "ipython",
    "version": 3
   },
   "file_extension": ".py",
   "mimetype": "text/x-python",
   "name": "python",
   "nbconvert_exporter": "python",
   "pygments_lexer": "ipython3",
   "version": "3.7.3"
  }
 },
 "nbformat": 4,
 "nbformat_minor": 2
}
