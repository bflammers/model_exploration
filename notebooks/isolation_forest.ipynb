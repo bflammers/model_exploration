{
 "cells": [
  {
   "cell_type": "markdown",
   "metadata": {},
   "source": [
    "Autoreload is nice: automagically loads changes to helper code in the .py files to notebook"
   ]
  },
  {
   "cell_type": "code",
   "execution_count": 1,
   "metadata": {},
   "outputs": [],
   "source": [
    "%load_ext autoreload\n",
    "%autoreload 2"
   ]
  },
  {
   "cell_type": "code",
   "execution_count": 2,
   "metadata": {},
   "outputs": [],
   "source": [
    "import sys\n",
    "import os"
   ]
  },
  {
   "cell_type": "markdown",
   "metadata": {},
   "source": [
    "Add parent directory to PYTHONPATH, this allows to import from src/ directory, which is location in the parent directory"
   ]
  },
  {
   "cell_type": "code",
   "execution_count": 3,
   "metadata": {},
   "outputs": [],
   "source": [
    "sys.path.insert(1, os.path.join(sys.path[0], '..'))"
   ]
  },
  {
   "cell_type": "code",
   "execution_count": 4,
   "metadata": {},
   "outputs": [],
   "source": [
    "import pandas as pd\n",
    "import numpy as np"
   ]
  },
  {
   "cell_type": "code",
   "execution_count": 5,
   "metadata": {},
   "outputs": [],
   "source": [
    "from src.dataloading import DataLoader"
   ]
  },
  {
   "cell_type": "code",
   "execution_count": 31,
   "metadata": {
    "scrolled": true
   },
   "outputs": [
    {
     "name": "stdout",
     "output_type": "stream",
     "text": [
      "--> reading data attributes json\n",
      "--> ../data directory present\n",
      "--> ../data/kdd-smtp directory present\n",
      "--> data is present\n",
      "--> data is loaded, shape: (95156, 4)\n"
     ]
    }
   ],
   "source": [
    "dataloader = DataLoader(\"kdd-smtp\")"
   ]
  },
  {
   "cell_type": "code",
   "execution_count": 32,
   "metadata": {},
   "outputs": [
    {
     "name": "stdout",
     "output_type": "stream",
     "text": [
      "Shape X: (95156, 3)\n",
      "Head X: \n",
      "          0         1         2\n",
      "0  0.095310  7.095976  5.796362\n",
      "1  0.095310  7.426013  5.808443\n",
      "2 -2.302585  6.886634  5.799396\n",
      "3  0.095310  7.336351  5.784133\n",
      "4  0.095310  7.441965  5.787204\n",
      "\n",
      "Shape y: (95156,)\n",
      "Head y: \n",
      "0    0.0\n",
      "1    0.0\n",
      "2    0.0\n",
      "3    0.0\n",
      "4    0.0\n",
      "Name: y, dtype: float64\n"
     ]
    }
   ],
   "source": [
    "X = dataloader.get_X()\n",
    "y = dataloader.get_y()\n",
    "\n",
    "print(\"Shape X: {}\".format(X.shape))\n",
    "print(\"Head X: \\n{}\".format(X.head(5)))\n",
    "\n",
    "print(\"\\nShape y: {}\".format(y.shape))\n",
    "print(\"Head y: \\n{}\".format(y.head(5)))"
   ]
  },
  {
   "cell_type": "code",
   "execution_count": null,
   "metadata": {},
   "outputs": [],
   "source": []
  }
 ],
 "metadata": {
  "kernelspec": {
   "display_name": "Python [conda env:model_exploration]",
   "language": "python",
   "name": "conda-env-model_exploration-py"
  },
  "language_info": {
   "codemirror_mode": {
    "name": "ipython",
    "version": 3
   },
   "file_extension": ".py",
   "mimetype": "text/x-python",
   "name": "python",
   "nbconvert_exporter": "python",
   "pygments_lexer": "ipython3",
   "version": "3.7.3"
  }
 },
 "nbformat": 4,
 "nbformat_minor": 2
}
